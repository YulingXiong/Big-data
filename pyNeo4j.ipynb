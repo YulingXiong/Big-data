{
 "cells": [
  {
   "cell_type": "markdown",
   "metadata": {},
   "source": [
    "# Question2"
   ]
  },
  {
   "cell_type": "code",
   "execution_count": 1,
   "metadata": {
    "collapsed": true
   },
   "outputs": [],
   "source": [
    "from py2neo import Graph, NodeSelector, Node, Relationship\n",
    "import pandas as pd"
   ]
  },
  {
   "cell_type": "code",
   "execution_count": 2,
   "metadata": {
    "collapsed": true
   },
   "outputs": [],
   "source": [
    "graph = Graph(\"http://localhost:7474/db/data/\")"
   ]
  },
  {
   "cell_type": "code",
   "execution_count": 3,
   "metadata": {
    "collapsed": true
   },
   "outputs": [],
   "source": [
    "movie4 = Node(\"Movie\", title=\"John Wick\")\n",
    "keanu = Node(\"Actor\",name=\"Keanu Reeves\")\n",
    "william = Node(\"Actor\", name=\"William Dafoe\")\n",
    "michale = Node(\"Actor\", name=\"Michael Nyquist\")\n",
    "chad = Node(\"Actor\", name=\"Chad Stahelski\")\n",
    "david = Node(\"Actor\", name=\"David Leitch\")"
   ]
  },
  {
   "cell_type": "code",
   "execution_count": 4,
   "metadata": {
    "collapsed": true
   },
   "outputs": [],
   "source": [
    "graph.create(movie4|keanu|william|michale|chad|david)"
   ]
  },
  {
   "cell_type": "code",
   "execution_count": 5,
   "metadata": {
    "collapsed": false
   },
   "outputs": [],
   "source": [
    "keanu_r = Relationship(keanu, \"ACTS_IN\", movie4, role = \"actor\")\n",
    "graph.create(keanu_r )\n",
    "william_r = Relationship(william, \"ACTS_IN\", movie4, role = \"actor\")\n",
    "graph.create(william_r )\n",
    "michale_r = Relationship(michale, \"ACTS_IN\", movie4, role = \"actor\")\n",
    "graph.create(michale_r )\n",
    "chad_r = Relationship(chad, \"DIRECTED\", movie4, role = \"director\")\n",
    "graph.create(chad_r )\n",
    "david_r = Relationship(david, \"DIRECTED\", movie4, role = \"director\")\n",
    "graph.create(david_r )"
   ]
  },
  {
   "cell_type": "code",
   "execution_count": 8,
   "metadata": {
    "collapsed": false
   },
   "outputs": [],
   "source": [
    "options = {\"Actor\": \"name\"}\n",
    "#draw(graph, options)"
   ]
  },
  {
   "cell_type": "code",
   "execution_count": 6,
   "metadata": {
    "collapsed": false
   },
   "outputs": [
    {
     "data": {
      "text/plain": [
       "[(keanu_reeves:Actor {name:\"Keanu Reeves\"}),\n",
       " (chad_stahelski:Actor {name:\"Chad Stahelski\"}),\n",
       " (william_dafoe:Actor {name:\"William Dafoe\"}),\n",
       " (michael_nyquist:Actor {name:\"Michael Nyquist\"}),\n",
       " (david_leitch:Actor {name:\"David Leitch\"})]"
      ]
     },
     "execution_count": 6,
     "metadata": {},
     "output_type": "execute_result"
    }
   ],
   "source": [
    "selector = NodeSelector(graph)\n",
    "#selected = selector.select(\"Actor\", name=\"Keanu Reeves\")\n",
    "selected = selector.select(\"Actor\")\n",
    "list(selected)"
   ]
  },
  {
   "cell_type": "markdown",
   "metadata": {},
   "source": [
    "# Question3"
   ]
  },
  {
   "cell_type": "code",
   "execution_count": 7,
   "metadata": {
    "collapsed": false
   },
   "outputs": [
    {
     "name": "stdout",
     "output_type": "stream",
     "text": [
      "(u'a.name': u'Michael Nyquist')\n",
      "(u'a.name': u'William Dafoe')\n"
     ]
    }
   ],
   "source": [
    "query = \"\"\"\n",
    "MATCH (a:Actor)-[:ACTS_IN]->(movie:Movie)<-[:ACTS_IN]-(Actor{name:\"Keanu Reeves\" })\n",
    "RETURN a.name\n",
    "\"\"\"\n",
    "data = graph.run(query)\n",
    "for d in data:\n",
    "    print(d)"
   ]
  },
  {
   "cell_type": "code",
   "execution_count": 8,
   "metadata": {
    "collapsed": false
   },
   "outputs": [
    {
     "name": "stdout",
     "output_type": "stream",
     "text": [
      "(u'a.name': u'David Leitch')\n",
      "(u'a.name': u'Chad Stahelski')\n"
     ]
    }
   ],
   "source": [
    "query = \"\"\"\n",
    "MATCH (a:Actor)-[:DIRECTED]->(movie:Movie)<-[:ACTS_IN]-(Actor{name:\"Keanu Reeves\" })\n",
    "RETURN a.name\n",
    "\"\"\"\n",
    "data = graph.run(query)\n",
    "for d in data:\n",
    "    print(d)"
   ]
  },
  {
   "cell_type": "markdown",
   "metadata": {},
   "source": [
    "# Question4"
   ]
  },
  {
   "cell_type": "code",
   "execution_count": 9,
   "metadata": {
    "collapsed": false
   },
   "outputs": [],
   "source": [
    "query = \"\"\"\n",
    "MATCH (p:Actor)-[r:ACTS_IN]->(m:Movie) RETURN p.name,r.role,m.title\n",
    "union\n",
    "MATCH (p:Actor)-[r:DIRECTED]->(m:Movie) RETURN p.name,r.role,m.title\n",
    "\"\"\"\n",
    "\n",
    "data = graph.run(query)\n",
    "mydata = []\n",
    "for d in data:\n",
    "    mydata.append(d)"
   ]
  },
  {
   "cell_type": "code",
   "execution_count": 10,
   "metadata": {
    "collapsed": false
   },
   "outputs": [
    {
     "data": {
      "text/html": [
       "<div>\n",
       "<table border=\"1\" class=\"dataframe\">\n",
       "  <thead>\n",
       "    <tr style=\"text-align: right;\">\n",
       "      <th></th>\n",
       "      <th>name</th>\n",
       "      <th>role</th>\n",
       "      <th>movie</th>\n",
       "    </tr>\n",
       "  </thead>\n",
       "  <tbody>\n",
       "    <tr>\n",
       "      <th>0</th>\n",
       "      <td>Michael Nyquist</td>\n",
       "      <td>actor</td>\n",
       "      <td>John Wick</td>\n",
       "    </tr>\n",
       "    <tr>\n",
       "      <th>1</th>\n",
       "      <td>William Dafoe</td>\n",
       "      <td>actor</td>\n",
       "      <td>John Wick</td>\n",
       "    </tr>\n",
       "    <tr>\n",
       "      <th>2</th>\n",
       "      <td>Keanu Reeves</td>\n",
       "      <td>actor</td>\n",
       "      <td>John Wick</td>\n",
       "    </tr>\n",
       "    <tr>\n",
       "      <th>3</th>\n",
       "      <td>David Leitch</td>\n",
       "      <td>director</td>\n",
       "      <td>John Wick</td>\n",
       "    </tr>\n",
       "    <tr>\n",
       "      <th>4</th>\n",
       "      <td>Chad Stahelski</td>\n",
       "      <td>director</td>\n",
       "      <td>John Wick</td>\n",
       "    </tr>\n",
       "  </tbody>\n",
       "</table>\n",
       "</div>"
      ],
      "text/plain": [
       "              name      role      movie\n",
       "0  Michael Nyquist     actor  John Wick\n",
       "1    William Dafoe     actor  John Wick\n",
       "2     Keanu Reeves     actor  John Wick\n",
       "3     David Leitch  director  John Wick\n",
       "4   Chad Stahelski  director  John Wick"
      ]
     },
     "execution_count": 10,
     "metadata": {},
     "output_type": "execute_result"
    }
   ],
   "source": [
    "df = pd.DataFrame(mydata)\n",
    "df.columns = ['name', 'role','movie']\n",
    "df"
   ]
  },
  {
   "cell_type": "code",
   "execution_count": 11,
   "metadata": {
    "collapsed": true
   },
   "outputs": [],
   "source": [
    "df.to_csv('df.csv',index=False,header=True)"
   ]
  },
  {
   "cell_type": "code",
   "execution_count": 71,
   "metadata": {
    "collapsed": true
   },
   "outputs": [],
   "source": [
    "#movie\n",
    "query = \"\"\"\n",
    "MATCH (m:Movie) RETURN m.title\n",
    "\"\"\"\n",
    "\n",
    "data = graph.run(query)\n",
    "mydata = []\n",
    "for d in data:\n",
    "    mydata.append(d)\n",
    "df = pd.DataFrame(mydata)\n",
    "df.columns = ['title']\n",
    "df.to_csv('df_movie.csv',index=False,header=True)"
   ]
  },
  {
   "cell_type": "code",
   "execution_count": 72,
   "metadata": {
    "collapsed": false
   },
   "outputs": [
    {
     "data": {
      "text/html": [
       "<div>\n",
       "<table border=\"1\" class=\"dataframe\">\n",
       "  <thead>\n",
       "    <tr style=\"text-align: right;\">\n",
       "      <th></th>\n",
       "      <th>title</th>\n",
       "    </tr>\n",
       "  </thead>\n",
       "  <tbody>\n",
       "    <tr>\n",
       "      <th>0</th>\n",
       "      <td>John Wick</td>\n",
       "    </tr>\n",
       "  </tbody>\n",
       "</table>\n",
       "</div>"
      ],
      "text/plain": [
       "       title\n",
       "0  John Wick"
      ]
     },
     "execution_count": 72,
     "metadata": {},
     "output_type": "execute_result"
    }
   ],
   "source": [
    "df"
   ]
  },
  {
   "cell_type": "code",
   "execution_count": 84,
   "metadata": {
    "collapsed": false
   },
   "outputs": [
    {
     "data": {
      "text/plain": [
       "<py2neo.database.Cursor at 0x10ae1b110>"
      ]
     },
     "execution_count": 84,
     "metadata": {},
     "output_type": "execute_result"
    }
   ],
   "source": [
    "#create movie node\n",
    "query = \"\"\" \n",
    "LOAD CSV WITH HEADERS FROM \"file:///df_movie.csv\" AS line\n",
    "CREATE (m:Movie { title:line.title});\n",
    "\"\"\"\n",
    "graph.run(query)"
   ]
  },
  {
   "cell_type": "code",
   "execution_count": 73,
   "metadata": {
    "collapsed": false
   },
   "outputs": [
    {
     "data": {
      "text/html": [
       "<div>\n",
       "<table border=\"1\" class=\"dataframe\">\n",
       "  <thead>\n",
       "    <tr style=\"text-align: right;\">\n",
       "      <th></th>\n",
       "      <th>name</th>\n",
       "    </tr>\n",
       "  </thead>\n",
       "  <tbody>\n",
       "    <tr>\n",
       "      <th>0</th>\n",
       "      <td>Keanu Reeves</td>\n",
       "    </tr>\n",
       "    <tr>\n",
       "      <th>1</th>\n",
       "      <td>Chad Stahelski</td>\n",
       "    </tr>\n",
       "    <tr>\n",
       "      <th>2</th>\n",
       "      <td>Michael Nyquist</td>\n",
       "    </tr>\n",
       "    <tr>\n",
       "      <th>3</th>\n",
       "      <td>David Leitch</td>\n",
       "    </tr>\n",
       "    <tr>\n",
       "      <th>4</th>\n",
       "      <td>William Dafoe</td>\n",
       "    </tr>\n",
       "  </tbody>\n",
       "</table>\n",
       "</div>"
      ],
      "text/plain": [
       "              name\n",
       "0     Keanu Reeves\n",
       "1   Chad Stahelski\n",
       "2  Michael Nyquist\n",
       "3     David Leitch\n",
       "4    William Dafoe"
      ]
     },
     "execution_count": 73,
     "metadata": {},
     "output_type": "execute_result"
    }
   ],
   "source": [
    "#Actor\n",
    "query = \"\"\"\n",
    "MATCH (a:Actor) RETURN a.name\n",
    "\"\"\"\n",
    "\n",
    "data = graph.run(query)\n",
    "mydata = []\n",
    "for d in data:\n",
    "    mydata.append(d)\n",
    "df = pd.DataFrame(mydata)\n",
    "df.columns = ['name']\n",
    "df.to_csv('df_actor.csv',index=False,header=True)\n",
    "df"
   ]
  },
  {
   "cell_type": "code",
   "execution_count": 87,
   "metadata": {
    "collapsed": false
   },
   "outputs": [
    {
     "data": {
      "text/plain": [
       "<py2neo.database.Cursor at 0x10ad59c90>"
      ]
     },
     "execution_count": 87,
     "metadata": {},
     "output_type": "execute_result"
    }
   ],
   "source": [
    "query = \"\"\" \n",
    "LOAD CSV WITH HEADERS FROM \"file:///df_actor.csv\" as line\n",
    "CREATE (a:Actor { name:line.name});\n",
    "\"\"\"\n",
    "graph.run(query)"
   ]
  },
  {
   "cell_type": "code",
   "execution_count": 74,
   "metadata": {
    "collapsed": false
   },
   "outputs": [
    {
     "data": {
      "text/html": [
       "<div>\n",
       "<table border=\"1\" class=\"dataframe\">\n",
       "  <thead>\n",
       "    <tr style=\"text-align: right;\">\n",
       "      <th></th>\n",
       "      <th>name</th>\n",
       "      <th>title</th>\n",
       "      <th>role</th>\n",
       "    </tr>\n",
       "  </thead>\n",
       "  <tbody>\n",
       "    <tr>\n",
       "      <th>0</th>\n",
       "      <td>Michael Nyquist</td>\n",
       "      <td>John Wick</td>\n",
       "      <td>actor</td>\n",
       "    </tr>\n",
       "    <tr>\n",
       "      <th>1</th>\n",
       "      <td>William Dafoe</td>\n",
       "      <td>John Wick</td>\n",
       "      <td>actor</td>\n",
       "    </tr>\n",
       "    <tr>\n",
       "      <th>2</th>\n",
       "      <td>Keanu Reeves</td>\n",
       "      <td>John Wick</td>\n",
       "      <td>actor</td>\n",
       "    </tr>\n",
       "    <tr>\n",
       "      <th>3</th>\n",
       "      <td>David Leitch</td>\n",
       "      <td>John Wick</td>\n",
       "      <td>director</td>\n",
       "    </tr>\n",
       "    <tr>\n",
       "      <th>4</th>\n",
       "      <td>Chad Stahelski</td>\n",
       "      <td>John Wick</td>\n",
       "      <td>director</td>\n",
       "    </tr>\n",
       "  </tbody>\n",
       "</table>\n",
       "</div>"
      ],
      "text/plain": [
       "              name      title      role\n",
       "0  Michael Nyquist  John Wick     actor\n",
       "1    William Dafoe  John Wick     actor\n",
       "2     Keanu Reeves  John Wick     actor\n",
       "3     David Leitch  John Wick  director\n",
       "4   Chad Stahelski  John Wick  director"
      ]
     },
     "execution_count": 74,
     "metadata": {},
     "output_type": "execute_result"
    }
   ],
   "source": [
    "#roles\n",
    "query = \"\"\"\n",
    "MATCH (p:Actor)-[r:ACTS_IN]->(m:Movie) RETURN p.name,m.title,r.role\n",
    "union\n",
    "MATCH (p:Actor)-[r:DIRECTED]->(m:Movie) RETURN p.name,m.title,r.role\n",
    "\"\"\"\n",
    "\n",
    "data = graph.run(query)\n",
    "mydata = []\n",
    "for d in data:\n",
    "    mydata.append(d)\n",
    "df = pd.DataFrame(mydata)\n",
    "df.columns = ['name','title','role']\n",
    "df.to_csv('df_roles.csv',index=False,header=True)\n",
    "df"
   ]
  },
  {
   "cell_type": "code",
   "execution_count": 88,
   "metadata": {
    "collapsed": false
   },
   "outputs": [
    {
     "data": {
      "text/plain": [
       "<py2neo.database.Cursor at 0x10eb17fd0>"
      ]
     },
     "execution_count": 88,
     "metadata": {},
     "output_type": "execute_result"
    }
   ],
   "source": [
    "query = \"\"\"\n",
    "LOAD CSV WITH HEADERS FROM \"file:///df_roles.csv\" AS line \n",
    "MATCH (a:Actor { name:line.name })\n",
    "MATCH (m:Movie { title:line.title })\n",
    "CREATE (a)-[:ACTED_IN { role: [line.role]}]->(m);\n",
    "\"\"\"\n",
    "graph.run(query)"
   ]
  },
  {
   "cell_type": "code",
   "execution_count": null,
   "metadata": {
    "collapsed": true
   },
   "outputs": [],
   "source": []
  },
  {
   "cell_type": "code",
   "execution_count": null,
   "metadata": {
    "collapsed": true
   },
   "outputs": [],
   "source": []
  },
  {
   "cell_type": "code",
   "execution_count": 75,
   "metadata": {
    "collapsed": false
   },
   "outputs": [
    {
     "data": {
      "text/html": [
       "<div>\n",
       "<table border=\"1\" class=\"dataframe\">\n",
       "  <thead>\n",
       "    <tr style=\"text-align: right;\">\n",
       "      <th></th>\n",
       "      <th>title</th>\n",
       "      <th>name</th>\n",
       "      <th>role</th>\n",
       "    </tr>\n",
       "  </thead>\n",
       "  <tbody>\n",
       "    <tr>\n",
       "      <th>0</th>\n",
       "      <td>John Wick</td>\n",
       "      <td>Michael Nyquist</td>\n",
       "      <td>actor</td>\n",
       "    </tr>\n",
       "    <tr>\n",
       "      <th>1</th>\n",
       "      <td>John Wick</td>\n",
       "      <td>William Dafoe</td>\n",
       "      <td>actor</td>\n",
       "    </tr>\n",
       "    <tr>\n",
       "      <th>2</th>\n",
       "      <td>John Wick</td>\n",
       "      <td>Keanu Reeves</td>\n",
       "      <td>actor</td>\n",
       "    </tr>\n",
       "    <tr>\n",
       "      <th>3</th>\n",
       "      <td>John Wick</td>\n",
       "      <td>David Leitch</td>\n",
       "      <td>director</td>\n",
       "    </tr>\n",
       "    <tr>\n",
       "      <th>4</th>\n",
       "      <td>John Wick</td>\n",
       "      <td>Chad Stahelski</td>\n",
       "      <td>director</td>\n",
       "    </tr>\n",
       "  </tbody>\n",
       "</table>\n",
       "</div>"
      ],
      "text/plain": [
       "       title             name      role\n",
       "0  John Wick  Michael Nyquist     actor\n",
       "1  John Wick    William Dafoe     actor\n",
       "2  John Wick     Keanu Reeves     actor\n",
       "3  John Wick     David Leitch  director\n",
       "4  John Wick   Chad Stahelski  director"
      ]
     },
     "execution_count": 75,
     "metadata": {},
     "output_type": "execute_result"
    }
   ],
   "source": [
    "#movie_actor_role\n",
    "query = \"\"\"\n",
    "MATCH (p:Actor)-[r:ACTS_IN]->(m:Movie) RETURN m.title, p.name, r.role\n",
    "union\n",
    "MATCH (p:Actor)-[r:DIRECTED]->(m:Movie) RETURN m.title, p.name, r.role\n",
    "\"\"\"\n",
    "\n",
    "data = graph.run(query)\n",
    "mydata = []\n",
    "for d in data:\n",
    "    mydata.append(d)\n",
    "df = pd.DataFrame(mydata)\n",
    "df.columns = ['title', 'name','role']\n",
    "df.to_csv('df_movie_actor_roles.csv',index=False,header=True)\n",
    "df"
   ]
  },
  {
   "cell_type": "code",
   "execution_count": null,
   "metadata": {
    "collapsed": true
   },
   "outputs": [],
   "source": []
  }
 ],
 "metadata": {
  "kernelspec": {
   "display_name": "Python 2",
   "language": "python",
   "name": "python2"
  },
  "language_info": {
   "codemirror_mode": {
    "name": "ipython",
    "version": 2
   },
   "file_extension": ".py",
   "mimetype": "text/x-python",
   "name": "python",
   "nbconvert_exporter": "python",
   "pygments_lexer": "ipython2",
   "version": "2.7.13"
  }
 },
 "nbformat": 4,
 "nbformat_minor": 2
}

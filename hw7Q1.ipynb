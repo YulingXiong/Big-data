{
 "cells": [
  {
   "cell_type": "code",
   "execution_count": 32,
   "metadata": {
    "collapsed": false
   },
   "outputs": [],
   "source": [
    "import nltk\n",
    "import nltk.corpus\n",
    "from nltk.text import Text\n",
    "#nltk.corpus.gutenberg.fileids()"
   ]
  },
  {
   "cell_type": "code",
   "execution_count": 49,
   "metadata": {
    "collapsed": false
   },
   "outputs": [
    {
     "name": "stdout",
     "output_type": "stream",
     "text": [
      "Displaying 25 of 837 matches:\n",
      "ry scheme of hers -- one to whom she could speak every thought as it arose , an\n",
      "who had such an affection for her as could never find fault . How was she to be\n",
      "but he was no companion for her . He could not meet her in conversation , ratio\n",
      "and his amiable temper , his talents could not have recommended him at any time\n",
      "y civil , but not one among them who could be accepted in lieu of Miss Taylor f\n",
      "t was a melancholy change ; and Emma could not but sigh over it , and wish for \n",
      " his own daughter ' s marrying , nor could ever speak of her but with compassio\n",
      "er able to suppose that other people could feel differently from himself , he w\n",
      "led and chatted as cheerfully as she could , to keep him from such thoughts ; b\n",
      "ar ? Randalls is such a distance . I could not walk half so far .\" \" No , papa \n",
      "My dearest papa ! You do not think I could mean _you_ , or suppose Mr . Knightl\n",
      "fact , was one of the few people who could see faults in Emma Woodhouse , and t\n",
      "e her so well as we do , sir , if we could suppose it ; but she knows how much \n",
      "d his own situation to improve as he could . A complete change of life became d\n",
      "ermination of never settling till he could purchase Randalls , and the sale of \n",
      "ll - judging and truly amiable woman could be , and must give him the pleasante\n",
      "s nature to imagine that any caprice could be strong enough to affect one so de\n",
      "p for her had never cooled , and who could ill bear to part with her . She knew\n",
      "at at times she must be missed ; and could not think , without pain , of Emma '\n",
      "m , was all eat up . His own stomach could bear nothing rich , and he could nev\n",
      "ach could bear nothing rich , and he could never believe other people to be dif\n",
      "ife ; and upon being applied to , he could not but acknowledge ( though it seem\n",
      " , his house , and his daughter , he could command the visits of his own little\n",
      "an evening in the week in which Emma could not make up a card - table for him .\n",
      "und with fancy - work , whenever she could , and win or lose a few sixpences by\n"
     ]
    }
   ],
   "source": [
    "#A concordance permits us to see words in context.\n",
    "emma = Text(nltk.corpus.gutenberg.words('austen-emma.txt'))\n",
    "emma.concordance(\"could\")"
   ]
  },
  {
   "cell_type": "code",
   "execution_count": 50,
   "metadata": {
    "collapsed": false
   },
   "outputs": [
    {
     "name": "stdout",
     "output_type": "stream",
     "text": [
      "Displaying 25 of 158 matches:\n",
      "te , from drought . The little Cloud could see the poor people of the earth wor\n",
      "ither , without a care . \" Oh , if I could only help the poor people down there\n",
      "e down there !\" she thought . \" If I could but make their work easier , or give\n",
      "praying , and saying , \" Ah , if you could help us !\" \" I will help you ; I wil\n",
      "ful . Never had she dreamed that she could be so big . Like a mighty angel of b\n",
      "ld man ran after him as fast as they could , but he just laughed , and shouted \n",
      "proud that he didn ' t think anybody could catch him . Pretty soon he saw a fox\n",
      "e fox , \" I would not catch you if I could . I would not think of disturbing yo\n",
      "Gingerbread Boy came to a river . He could not swim across , and he wanted to k\n",
      "t away . Then , of course , the Lion could see where they were . And he pounced\n",
      "quite thin and very tired , and they could not run so fast any more . And one d\n",
      "Mouse . And they ran as fast as they could to the little hole where they had co\n",
      "ouse liked the taste so much that he could hardly nibble fast enough . But all \n",
      "ered , \" Sh !\" and ran as fast as he could to the hole . The Country Mouse ran \n",
      " , you may be sure , as fast as _he_ could . As soon as they were out of danger\n",
      "e - bed had castors on it so that it could be rolled about , and there was noth\n",
      " till she was tired . The little boy could never get enough ; so for this he wa\n",
      "at the people can see me !\" The Moon could not open the door , but he shone in \n",
      "e - trunks got in his way so that he could not go so fast as the bed , and ever\n",
      "d never a word , and Jack Rollaround could not see where to steer . He went rol\n",
      " cannot pull her out . Of course you could . If you will be so very obliging as\n",
      "ever fear ,\" said the Elephant , \" I could pull twenty cows .\" \" I am sure you \n",
      " pull twenty cows .\" \" I am sure you could ,\" said the Rabbit , politely , \" on\n",
      "ned till it was stretched as hard as could be . \" This is a remarkably heavy co\n",
      "eep it from harm . But as soon as it could walk the little Half - Chick showed \n"
     ]
    }
   ],
   "source": [
    "bryant = Text(nltk.corpus.gutenberg.words('bryant-stories.txt'))\n",
    "bryant.concordance(\"could\")"
   ]
  },
  {
   "cell_type": "code",
   "execution_count": 47,
   "metadata": {
    "collapsed": false
   },
   "outputs": [
    {
     "name": "stdout",
     "output_type": "stream",
     "text": [
      "austen-emma.txt\n",
      "austen-persuasion.txt\n",
      "austen-sense.txt\n",
      "bible-kjv.txt\n",
      "blake-poems.txt\n",
      "bryant-stories.txt\n",
      "burgess-busterbrown.txt\n",
      "carroll-alice.txt\n",
      "chesterton-ball.txt\n",
      "chesterton-brown.txt\n",
      "chesterton-thursday.txt\n",
      "edgeworth-parents.txt\n",
      "melville-moby_dick.txt\n",
      "milton-paradise.txt\n",
      "shakespeare-caesar.txt\n",
      "shakespeare-hamlet.txt\n",
      "shakespeare-macbeth.txt\n",
      "whitman-leaves.txt\n"
     ]
    }
   ],
   "source": [
    "for fileid in nltk.corpus.gutenberg.fileids():\n",
    "    print fileid"
   ]
  },
  {
   "cell_type": "code",
   "execution_count": 31,
   "metadata": {
    "collapsed": false
   },
   "outputs": [
    {
     "name": "stdout",
     "output_type": "stream",
     "text": [
      "(u'austen-emma.txt can:', 284)\n",
      "(u'austen-emma.txt could:', 837)\n",
      "(u'austen-emma.txt may:', 221)\n",
      "(u'austen-emma.txt might:', 326)\n",
      "(u'austen-emma.txt must:', 567)\n",
      "(u'austen-emma.txt will:', 570)\n",
      "(u'austen-persuasion.txt can:', 107)\n",
      "(u'austen-persuasion.txt could:', 451)\n",
      "(u'austen-persuasion.txt may:', 87)\n",
      "(u'austen-persuasion.txt might:', 166)\n",
      "(u'austen-persuasion.txt must:', 228)\n",
      "(u'austen-persuasion.txt will:', 167)\n",
      "(u'austen-sense.txt can:', 218)\n",
      "(u'austen-sense.txt could:', 578)\n",
      "(u'austen-sense.txt may:', 175)\n",
      "(u'austen-sense.txt might:', 215)\n",
      "(u'austen-sense.txt must:', 283)\n",
      "(u'austen-sense.txt will:', 363)\n",
      "(u'bible-kjv.txt can:', 235)\n",
      "(u'bible-kjv.txt could:', 166)\n",
      "(u'bible-kjv.txt may:', 1027)\n",
      "(u'bible-kjv.txt might:', 475)\n",
      "(u'bible-kjv.txt must:', 132)\n",
      "(u'bible-kjv.txt will:', 3836)\n",
      "(u'blake-poems.txt can:', 28)\n",
      "(u'blake-poems.txt could:', 6)\n",
      "(u'blake-poems.txt may:', 6)\n",
      "(u'blake-poems.txt might:', 2)\n",
      "(u'blake-poems.txt must:', 3)\n",
      "(u'blake-poems.txt will:', 3)\n",
      "(u'bryant-stories.txt can:', 78)\n",
      "(u'bryant-stories.txt could:', 158)\n",
      "(u'bryant-stories.txt may:', 22)\n",
      "(u'bryant-stories.txt might:', 23)\n",
      "(u'bryant-stories.txt must:', 39)\n",
      "(u'bryant-stories.txt will:', 147)\n",
      "(u'burgess-busterbrown.txt can:', 24)\n",
      "(u'burgess-busterbrown.txt could:', 56)\n",
      "(u'burgess-busterbrown.txt may:', 3)\n",
      "(u'burgess-busterbrown.txt might:', 17)\n",
      "(u'burgess-busterbrown.txt must:', 15)\n",
      "(u'burgess-busterbrown.txt will:', 20)\n",
      "(u'carroll-alice.txt can:', 63)\n",
      "(u'carroll-alice.txt could:', 77)\n",
      "(u'carroll-alice.txt may:', 13)\n",
      "(u'carroll-alice.txt might:', 28)\n",
      "(u'carroll-alice.txt must:', 44)\n",
      "(u'carroll-alice.txt will:', 33)\n",
      "(u'chesterton-ball.txt can:', 143)\n",
      "(u'chesterton-ball.txt could:', 117)\n",
      "(u'chesterton-ball.txt may:', 96)\n",
      "(u'chesterton-ball.txt might:', 72)\n",
      "(u'chesterton-ball.txt must:', 81)\n",
      "(u'chesterton-ball.txt will:', 203)\n",
      "(u'chesterton-brown.txt can:', 129)\n",
      "(u'chesterton-brown.txt could:', 171)\n",
      "(u'chesterton-brown.txt may:', 48)\n",
      "(u'chesterton-brown.txt might:', 72)\n",
      "(u'chesterton-brown.txt must:', 71)\n",
      "(u'chesterton-brown.txt will:', 117)\n",
      "(u'chesterton-thursday.txt can:', 122)\n",
      "(u'chesterton-thursday.txt could:', 151)\n",
      "(u'chesterton-thursday.txt may:', 60)\n",
      "(u'chesterton-thursday.txt might:', 73)\n",
      "(u'chesterton-thursday.txt must:', 49)\n",
      "(u'chesterton-thursday.txt will:', 122)\n",
      "(u'edgeworth-parents.txt can:', 359)\n",
      "(u'edgeworth-parents.txt could:', 426)\n",
      "(u'edgeworth-parents.txt may:', 188)\n",
      "(u'edgeworth-parents.txt might:', 127)\n",
      "(u'edgeworth-parents.txt must:', 266)\n",
      "(u'edgeworth-parents.txt will:', 556)\n",
      "(u'melville-moby_dick.txt can:', 236)\n",
      "(u'melville-moby_dick.txt could:', 216)\n",
      "(u'melville-moby_dick.txt may:', 240)\n",
      "(u'melville-moby_dick.txt might:', 183)\n",
      "(u'melville-moby_dick.txt must:', 283)\n",
      "(u'melville-moby_dick.txt will:', 391)\n",
      "(u'milton-paradise.txt can:', 129)\n",
      "(u'milton-paradise.txt could:', 67)\n",
      "(u'milton-paradise.txt may:', 126)\n",
      "(u'milton-paradise.txt might:', 107)\n",
      "(u'milton-paradise.txt must:', 75)\n",
      "(u'milton-paradise.txt will:', 183)\n",
      "(u'shakespeare-caesar.txt can:', 19)\n",
      "(u'shakespeare-caesar.txt could:', 18)\n",
      "(u'shakespeare-caesar.txt may:', 38)\n",
      "(u'shakespeare-caesar.txt might:', 13)\n",
      "(u'shakespeare-caesar.txt must:', 36)\n",
      "(u'shakespeare-caesar.txt will:', 163)\n",
      "(u'shakespeare-hamlet.txt can:', 35)\n",
      "(u'shakespeare-hamlet.txt could:', 31)\n",
      "(u'shakespeare-hamlet.txt may:', 65)\n",
      "(u'shakespeare-hamlet.txt might:', 30)\n",
      "(u'shakespeare-hamlet.txt must:', 58)\n",
      "(u'shakespeare-hamlet.txt will:', 149)\n",
      "(u'shakespeare-macbeth.txt can:', 26)\n",
      "(u'shakespeare-macbeth.txt could:', 16)\n",
      "(u'shakespeare-macbeth.txt may:', 35)\n",
      "(u'shakespeare-macbeth.txt might:', 8)\n",
      "(u'shakespeare-macbeth.txt must:', 36)\n",
      "(u'shakespeare-macbeth.txt will:', 72)\n",
      "(u'whitman-leaves.txt can:', 92)\n",
      "(u'whitman-leaves.txt could:', 52)\n",
      "(u'whitman-leaves.txt may:', 99)\n",
      "(u'whitman-leaves.txt might:', 26)\n",
      "(u'whitman-leaves.txt must:', 67)\n",
      "(u'whitman-leaves.txt will:', 273)\n"
     ]
    }
   ],
   "source": [
    "modals = ['can','could','may','might','must','will']\n",
    "for fileid in nltk.corpus.gutenberg.fileids():\n",
    "    book = Text(nltk.corpus.gutenberg.words(fileid))\n",
    "    fdist = nltk.FreqDist(w.lower() for w in book)\n",
    "    for m in modals:\n",
    "        print (fileid+' '+m+':',fdist[m])"
   ]
  },
  {
   "cell_type": "code",
   "execution_count": 45,
   "metadata": {
    "collapsed": false
   },
   "outputs": [],
   "source": [
    "modals = ['can', 'could', 'may', 'might','will','would','should']\n",
    "cfd = nltk.ConditionalFreqDist(\n",
    "    (book,word.lower())\n",
    "    for book in nltk.corpus.gutenberg.fileids()\n",
    "    for word in Text(nltk.corpus.gutenberg.words(book))\n",
    ")"
   ]
  },
  {
   "cell_type": "code",
   "execution_count": 46,
   "metadata": {
    "collapsed": false
   },
   "outputs": [
    {
     "name": "stdout",
     "output_type": "stream",
     "text": [
      "                           can  could    may  might   will  would should \n",
      "        austen-emma.txt    284    837    221    326    570    820    369 \n",
      "  austen-persuasion.txt    107    451     87    166    167    355    188 \n",
      "       austen-sense.txt    218    578    175    215    363    515    236 \n",
      "          bible-kjv.txt    235    166   1027    475   3836    451    783 \n",
      "        blake-poems.txt     28      6      6      2      3      5      6 \n",
      "     bryant-stories.txt     78    158     22     23    147    112     38 \n",
      "burgess-busterbrown.txt     24     56      3     17     20     46     13 \n",
      "      carroll-alice.txt     63     77     13     28     33     83     27 \n",
      "    chesterton-ball.txt    143    117     96     72    203    140     75 \n",
      "   chesterton-brown.txt    129    171     48     72    117    135     56 \n",
      "chesterton-thursday.txt    122    151     60     73    122    120     54 \n",
      "  edgeworth-parents.txt    359    426    188    127    556    511    274 \n",
      " melville-moby_dick.txt    236    216    240    183    391    432    183 \n",
      "    milton-paradise.txt    129     67    126    107    183     58     65 \n",
      " shakespeare-caesar.txt     19     18     38     13    163     44     42 \n",
      " shakespeare-hamlet.txt     35     31     65     30    149     73     56 \n",
      "shakespeare-macbeth.txt     26     16     35      8     72     53     42 \n",
      "     whitman-leaves.txt     92     52     99     26    273     93     43 \n"
     ]
    }
   ],
   "source": [
    "cfd.tabulate(samples = modals)"
   ]
  },
  {
   "cell_type": "code",
   "execution_count": null,
   "metadata": {
    "collapsed": true
   },
   "outputs": [],
   "source": []
  },
  {
   "cell_type": "code",
   "execution_count": 16,
   "metadata": {
    "collapsed": true
   },
   "outputs": [],
   "source": [
    "cfd = nltk.ConditionalFreqDist(\n",
    "    (genre,word)\n",
    "    for genre in brown.categories()\n",
    "    for word in brown.words(categories=genre))"
   ]
  },
  {
   "cell_type": "code",
   "execution_count": 18,
   "metadata": {
    "collapsed": false
   },
   "outputs": [],
   "source": [
    "genres = ['new','religion','hobbies','science_fiction']"
   ]
  },
  {
   "cell_type": "code",
   "execution_count": 37,
   "metadata": {
    "collapsed": false
   },
   "outputs": [
    {
     "name": "stdout",
     "output_type": "stream",
     "text": [
      "('can:', 94)\n",
      "('could:', 87)\n",
      "('may:', 93)\n",
      "('might:', 38)\n",
      "('must:', 53)\n",
      "('will:', 389)\n",
      "                  can could   may might  must  will \n",
      "           news    93    86    66    38    50   389 \n",
      "       religion    82    59    78    12    54    71 \n",
      "        hobbies   268    58   131    22    83   264 \n",
      "science_fiction    16    49     4    12     8    16 \n",
      "        romance    74   193    11    51    45    43 \n",
      "          humor    16    30     8     8     9    13 \n"
     ]
    }
   ],
   "source": [
    "# compare genres in their usage of modal verbs\n",
    "# 1. produce the counts for a particular genre\n",
    "from nltk.corpus import brown\n",
    "brown.categories()\n",
    "news_text = brown.words(categories='news')\n",
    "fdist = nltk.FreqDist(w.lower() for w in news_text)\n",
    "modals = ['can', 'could', 'may', 'might', 'must', 'will']\n",
    "for m in modals:\n",
    "\tprint(m + ':', fdist[m])\n",
    "# 2. obtain counts for each genre of interest\n",
    "cfd = nltk.ConditionalFreqDist(\n",
    "\t(genre, word)\n",
    "\tfor genre in brown.categories()\n",
    "\tfor word in brown.words(categories=genre))\n",
    "genres = ['news', 'religion', 'hobbies', 'science_fiction', 'romance', 'humor']\n",
    "modals = ['can', 'could', 'may', 'might', 'must', 'will']\n",
    "cfd.tabulate(conditions=genres, samples=modals)"
   ]
  },
  {
   "cell_type": "code",
   "execution_count": null,
   "metadata": {
    "collapsed": true
   },
   "outputs": [],
   "source": []
  },
  {
   "cell_type": "code",
   "execution_count": null,
   "metadata": {
    "collapsed": true
   },
   "outputs": [],
   "source": []
  },
  {
   "cell_type": "code",
   "execution_count": null,
   "metadata": {
    "collapsed": true
   },
   "outputs": [],
   "source": []
  },
  {
   "cell_type": "code",
   "execution_count": null,
   "metadata": {
    "collapsed": true
   },
   "outputs": [],
   "source": []
  }
 ],
 "metadata": {
  "kernelspec": {
   "display_name": "Python 2",
   "language": "python",
   "name": "python2"
  },
  "language_info": {
   "codemirror_mode": {
    "name": "ipython",
    "version": 2
   },
   "file_extension": ".py",
   "mimetype": "text/x-python",
   "name": "python",
   "nbconvert_exporter": "python",
   "pygments_lexer": "ipython2",
   "version": "2.7.13"
  }
 },
 "nbformat": 4,
 "nbformat_minor": 2
}

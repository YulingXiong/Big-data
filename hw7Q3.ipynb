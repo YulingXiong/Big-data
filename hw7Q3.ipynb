{
 "cells": [
  {
   "cell_type": "code",
   "execution_count": 1,
   "metadata": {
    "collapsed": true
   },
   "outputs": [],
   "source": [
    "import nltk\n",
    "from nltk.corpus import conll2000"
   ]
  },
  {
   "cell_type": "code",
   "execution_count": 2,
   "metadata": {
    "collapsed": true
   },
   "outputs": [],
   "source": [
    "my_grammar = nltk.CFG.fromstring(\"\"\"\n",
    "S -> VP C VP\n",
    "VP -> V NP | V NP PP\n",
    "PP -> P NP\n",
    "V -> 'Describe' | 'present'\n",
    "Adj -> 'intermediate' | 'final' | 'all' | 'every'\n",
    "NP -> Adj N | Det N | Adj N P Det N | Det N N | Adj Adj C Adj N\n",
    "Det -> 'a' | 'an' | 'the' | 'your'\n",
    "N -> 'step' | 'work' | 'results' | 'Word' | 'document'\n",
    "P -> 'in' | 'of'\n",
    "C -> 'and'\n",
    "\"\"\")"
   ]
  },
  {
   "cell_type": "code",
   "execution_count": 7,
   "metadata": {
    "collapsed": true
   },
   "outputs": [],
   "source": [
    "sent = \"\"\"Describe every step of your work and present all intermediate and final results in a Word document\"\"\".split(\" \") "
   ]
  },
  {
   "cell_type": "code",
   "execution_count": 8,
   "metadata": {
    "collapsed": false
   },
   "outputs": [
    {
     "name": "stdout",
     "output_type": "stream",
     "text": [
      "(S\n",
      "  (VP\n",
      "    (V Describe)\n",
      "    (NP (Adj every) (N step) (P of) (Det your) (N work)))\n",
      "  (C and)\n",
      "  (VP\n",
      "    (V present)\n",
      "    (NP (Adj all) (Adj intermediate) (C and) (Adj final) (N results))\n",
      "    (PP (P in) (NP (Det a) (N Word) (N document)))))\n",
      "(S\n",
      "  (VP\n",
      "    (V Describe)\n",
      "    (NP (Adj every) (N step))\n",
      "    (PP (P of) (NP (Det your) (N work))))\n",
      "  (C and)\n",
      "  (VP\n",
      "    (V present)\n",
      "    (NP (Adj all) (Adj intermediate) (C and) (Adj final) (N results))\n",
      "    (PP (P in) (NP (Det a) (N Word) (N document)))))\n"
     ]
    }
   ],
   "source": [
    "parser = nltk.RecursiveDescentParser(my_grammar)\n",
    "for tree in parser.parse(sent):\n",
    "    print tree"
   ]
  },
  {
   "cell_type": "code",
   "execution_count": null,
   "metadata": {
    "collapsed": true
   },
   "outputs": [],
   "source": []
  },
  {
   "cell_type": "code",
   "execution_count": null,
   "metadata": {
    "collapsed": true
   },
   "outputs": [],
   "source": []
  },
  {
   "cell_type": "code",
   "execution_count": 4,
   "metadata": {
    "collapsed": false
   },
   "outputs": [],
   "source": [
    "cp = nltk.RegexpParser(\"\")"
   ]
  },
  {
   "cell_type": "code",
   "execution_count": 5,
   "metadata": {
    "collapsed": true
   },
   "outputs": [],
   "source": [
    "test_sents = conll2000.chunked_sents('test.txt', chunk_types=['NP'])"
   ]
  },
  {
   "cell_type": "code",
   "execution_count": 6,
   "metadata": {
    "collapsed": false
   },
   "outputs": [
    {
     "data": {
      "text/plain": [
       "[Tree('S', [Tree('NP', [(u'Rockwell', u'NNP'), (u'International', u'NNP'), (u'Corp.', u'NNP')]), Tree('NP', [(u\"'s\", u'POS'), (u'Tulsa', u'NNP'), (u'unit', u'NN')]), (u'said', u'VBD'), Tree('NP', [(u'it', u'PRP')]), (u'signed', u'VBD'), Tree('NP', [(u'a', u'DT'), (u'tentative', u'JJ'), (u'agreement', u'NN')]), (u'extending', u'VBG'), Tree('NP', [(u'its', u'PRP$'), (u'contract', u'NN')]), (u'with', u'IN'), Tree('NP', [(u'Boeing', u'NNP'), (u'Co.', u'NNP')]), (u'to', u'TO'), (u'provide', u'VB'), Tree('NP', [(u'structural', u'JJ'), (u'parts', u'NNS')]), (u'for', u'IN'), Tree('NP', [(u'Boeing', u'NNP')]), Tree('NP', [(u\"'s\", u'POS'), (u'747', u'CD'), (u'jetliners', u'NNS')]), (u'.', u'.')]), Tree('S', [Tree('NP', [(u'Rockwell', u'NNP')]), (u'said', u'VBD'), Tree('NP', [(u'the', u'DT'), (u'agreement', u'NN')]), (u'calls', u'VBZ'), (u'for', u'IN'), Tree('NP', [(u'it', u'PRP')]), (u'to', u'TO'), (u'supply', u'VB'), Tree('NP', [(u'200', u'CD'), (u'additional', u'JJ'), (u'so-called', u'JJ'), (u'shipsets', u'NNS')]), (u'for', u'IN'), Tree('NP', [(u'the', u'DT'), (u'planes', u'NNS')]), (u'.', u'.')]), ...]"
      ]
     },
     "execution_count": 6,
     "metadata": {},
     "output_type": "execute_result"
    }
   ],
   "source": [
    "test_sents"
   ]
  },
  {
   "cell_type": "code",
   "execution_count": 7,
   "metadata": {
    "collapsed": false
   },
   "outputs": [
    {
     "name": "stdout",
     "output_type": "stream",
     "text": [
      "ChunkParse score:\n",
      "    IOB Accuracy:  43.4%%\n",
      "    Precision:      0.0%%\n",
      "    Recall:         0.0%%\n",
      "    F-Measure:      0.0%%\n"
     ]
    }
   ],
   "source": [
    "print cp.evaluate(test_sents)"
   ]
  },
  {
   "cell_type": "code",
   "execution_count": 8,
   "metadata": {
    "collapsed": true
   },
   "outputs": [],
   "source": [
    "groucho_grammar = nltk.CFG.fromstring(\"\"\"\n",
    "... S -> NP VP\n",
    "... PP -> P NP\n",
    "... NP -> Det N | Det N PP | 'I'\n",
    "... VP -> V NP | VP PP\n",
    "... Det -> 'an' | 'my'\n",
    "... N -> 'elephant' | 'pajamas'\n",
    "... V -> 'shot'\n",
    "... P -> 'in'\n",
    "... \"\"\")"
   ]
  },
  {
   "cell_type": "code",
   "execution_count": 9,
   "metadata": {
    "collapsed": true
   },
   "outputs": [],
   "source": [
    "sent = ['I', 'shot', 'an', 'elephant', 'in', 'my', 'pajamas']"
   ]
  },
  {
   "cell_type": "code",
   "execution_count": 10,
   "metadata": {
    "collapsed": true
   },
   "outputs": [],
   "source": [
    "parser = nltk.ChartParser(groucho_grammar)"
   ]
  },
  {
   "cell_type": "code",
   "execution_count": 11,
   "metadata": {
    "collapsed": false
   },
   "outputs": [
    {
     "name": "stdout",
     "output_type": "stream",
     "text": [
      "(S\n",
      "  (NP I)\n",
      "  (VP\n",
      "    (VP (V shot) (NP (Det an) (N elephant)))\n",
      "    (PP (P in) (NP (Det my) (N pajamas)))))\n",
      "(S\n",
      "  (NP I)\n",
      "  (VP\n",
      "    (V shot)\n",
      "    (NP (Det an) (N elephant) (PP (P in) (NP (Det my) (N pajamas))))))\n"
     ]
    }
   ],
   "source": [
    "for tree in parser.parse(sent):\n",
    "...     print(tree)\n",
    "..."
   ]
  },
  {
   "cell_type": "code",
   "execution_count": 12,
   "metadata": {
    "collapsed": false
   },
   "outputs": [
    {
     "ename": "ImportError",
     "evalue": "No module named stat_parser",
     "output_type": "error",
     "traceback": [
      "\u001b[0;31m---------------------------------------------------------------------------\u001b[0m",
      "\u001b[0;31mImportError\u001b[0m                               Traceback (most recent call last)",
      "\u001b[0;32m<ipython-input-12-a469421cc63d>\u001b[0m in \u001b[0;36m<module>\u001b[0;34m()\u001b[0m\n\u001b[0;32m----> 1\u001b[0;31m \u001b[0;32mfrom\u001b[0m \u001b[0mstat_parser\u001b[0m \u001b[0;32mimport\u001b[0m \u001b[0mParser\u001b[0m\u001b[0;34m\u001b[0m\u001b[0m\n\u001b[0m",
      "\u001b[0;31mImportError\u001b[0m: No module named stat_parser"
     ]
    }
   ],
   "source": [
    "from stat_parser import Parser"
   ]
  },
  {
   "cell_type": "code",
   "execution_count": null,
   "metadata": {
    "collapsed": true
   },
   "outputs": [],
   "source": []
  }
 ],
 "metadata": {
  "kernelspec": {
   "display_name": "Python 2",
   "language": "python",
   "name": "python2"
  },
  "language_info": {
   "codemirror_mode": {
    "name": "ipython",
    "version": 2
   },
   "file_extension": ".py",
   "mimetype": "text/x-python",
   "name": "python",
   "nbconvert_exporter": "python",
   "pygments_lexer": "ipython2",
   "version": "2.7.13"
  }
 },
 "nbformat": 4,
 "nbformat_minor": 2
}
